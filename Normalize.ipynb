{
 "cells": [
  {
   "cell_type": "code",
   "execution_count": 2,
   "id": "02e8804a-1f30-4bfd-b653-475c3a901226",
   "metadata": {},
   "outputs": [],
   "source": [
    "from hazm import *"
   ]
  },
  {
   "cell_type": "code",
   "execution_count": 3,
   "id": "0b5792d6-3849-4d9c-9f68-dd92b49f47fe",
   "metadata": {},
   "outputs": [],
   "source": [
    "#Normalize Texts\n",
    "topic_list = ['Varzeshi', 'Siasi', 'FarhangHonarVaResane','ElmiVaDaneshghai', 'Ejtemaee', 'Eghtesadi', 'Beinolmelal']\n",
    "normalizer = Normalizer()"
   ]
  },
  {
   "cell_type": "code",
   "execution_count": 4,
   "id": "e7909c63-3e98-47e7-a1af-959bd557deac",
   "metadata": {},
   "outputs": [
    {
     "data": {
      "text/plain": [
       "'\\nE:\\\\quera_Data\\\\IR\\\\VarzeshiE:\\\\quera_Data\\\\IR\\\\SiasiE:\\\\quera_Data\\\\IR\\\\FarhangHonarVaResaneE:\\\\quera_Data\\\\IR\\\\ElmiVaDaneshghaiE:\\\\quera_Data\\\\IR\\\\EjtemaeeE:\\\\quera_Data\\\\IR\\\\EghtesadiE:\\\\quera_Data\\\\IR\\\\Beinolmelal'"
      ]
     },
     "execution_count": 4,
     "metadata": {},
     "output_type": "execute_result"
    }
   ],
   "source": [
    "\"\"\"\n",
    "E:\\quera_Data\\IR\\Varzeshi\\\n",
    "E:\\quera_Data\\IR\\Siasi\\\n",
    "E:\\quera_Data\\IR\\FarhangHonarVaResane\\\n",
    "E:\\quera_Data\\IR\\ElmiVaDaneshghai\\\n",
    "E:\\quera_Data\\IR\\Ejtemaee\\\n",
    "E:\\quera_Data\\IR\\Eghtesadi\\\n",
    "E:\\quera_Data\\IR\\Beinolmelal\\\n",
    "\"\"\""
   ]
  },
  {
   "cell_type": "code",
   "execution_count": 10,
   "id": "24c3b866-34ab-41ef-8ba4-b3ca50ea462d",
   "metadata": {},
   "outputs": [],
   "source": [
    "path = \"E:/quera_Data/IR/Varzeshi/\"\n",
    "output_path = \"E:/quera_Data/IR/Normalized Varzeshi/\"\n",
    "for i in range(1, 5001):\n",
    "    text_file = open(path+str(i)+\".txt\", \"r\", encoding=\"utf-8\")\n",
    "    text = text_file.read()\n",
    "    normalized_text = normalizer.normalize(text)\n",
    "    output_file = open(output_path+str(i)+\".txt\", \"w\", encoding=\"utf-8\")\n",
    "    output_file.write(normalized_text)\n",
    "    output_file.close()\n",
    "    \n",
    "    \n",
    " "
   ]
  },
  {
   "cell_type": "code",
   "execution_count": 11,
   "id": "f0fced6d",
   "metadata": {},
   "outputs": [],
   "source": [
    "path = \"E:/quera_Data/IR/Siasi/\"\n",
    "output_path = \"E:/quera_Data/IR/Normalized Siasi/\"\n",
    "for i in range(1, 3938):\n",
    "    text_file = open(path+str(i)+\".txt\", \"r\", encoding=\"utf-8\")\n",
    "    text = text_file.read()\n",
    "    normalized_text = normalizer.normalize(text)\n",
    "    output_file = open(output_path+str(i)+\".txt\", \"w\", encoding=\"utf-8\")\n",
    "    output_file.write(normalized_text)\n",
    "    output_file.close()\n",
    "    \n",
    "       \n",
    "    "
   ]
  },
  {
   "cell_type": "code",
   "execution_count": 13,
   "id": "04434997-28a4-4311-95a8-1d5bd16df288",
   "metadata": {},
   "outputs": [],
   "source": [
    "path = \"E:/quera_Data/IR/FarhangHonarVaResane/\"\n",
    "output_path = \"E:/quera_Data/IR/Normalized FarhangHonarVaResane/\"\n",
    "for i in range(1, 4001):\n",
    "    text_file = open(path+str(i)+\".txt\", \"r\", encoding=\"utf-8\")\n",
    "    text = text_file.read()\n",
    "    normalized_text = normalizer.normalize(text)\n",
    "    output_file = open(output_path+str(i)+\".txt\", \"w\", encoding=\"utf-8\")\n",
    "    output_file.write(normalized_text)\n",
    "    output_file.close()"
   ]
  },
  {
   "cell_type": "code",
   "execution_count": 14,
   "id": "8ce01b2a-a310-491c-9eac-1ed49ad62cdc",
   "metadata": {},
   "outputs": [],
   "source": [
    "path = \"E:/quera_Data/IR/ElmiVaDaneshghai/\"\n",
    "output_path = \"E:/quera_Data/IR/Normalized ElmiVaDaneshghai/\"\n",
    "for i in range(1, 3983):\n",
    "    text_file = open(path+str(i)+\".txt\", \"r\", encoding=\"utf-8\")\n",
    "    text = text_file.read()\n",
    "    normalized_text = normalizer.normalize(text)\n",
    "    output_file = open(output_path+str(i)+\".txt\", \"w\", encoding=\"utf-8\")\n",
    "    output_file.write(normalized_text)\n",
    "    output_file.close()"
   ]
  },
  {
   "cell_type": "code",
   "execution_count": 15,
   "id": "c598e1b8-7230-45ec-91fe-e1d05d088e1e",
   "metadata": {},
   "outputs": [],
   "source": [
    "path = \"E:/quera_Data/IR/Ejtemaee/\"\n",
    "output_path = \"E:/quera_Data/IR/Normalized Ejtemaee/\"\n",
    "for i in range(1, 4001):\n",
    "    text_file = open(path+str(i)+\".txt\", \"r\", encoding=\"utf-8\")\n",
    "    text = text_file.read()\n",
    "    normalized_text = normalizer.normalize(text)\n",
    "    output_file = open(output_path+str(i)+\".txt\", \"w\", encoding=\"utf-8\")\n",
    "    output_file.write(normalized_text)\n",
    "    output_file.close()"
   ]
  },
  {
   "cell_type": "code",
   "execution_count": 16,
   "id": "ca7128f5-af48-4a89-86ce-7e3eae3ef137",
   "metadata": {},
   "outputs": [],
   "source": [
    "path = \"E:/quera_Data/IR/Eghtesadi/\"\n",
    "output_path = \"E:/quera_Data/IR/Normalized Eghtesadi/\"\n",
    "for i in range(1, 3995):\n",
    "    text_file = open(path+str(i)+\".txt\", \"r\", encoding=\"utf-8\")\n",
    "    text = text_file.read()\n",
    "    normalized_text = normalizer.normalize(text)\n",
    "    output_file = open(output_path+str(i)+\".txt\", \"w\", encoding=\"utf-8\")\n",
    "    output_file.write(normalized_text)\n",
    "    output_file.close()"
   ]
  },
  {
   "cell_type": "code",
   "execution_count": 17,
   "id": "f178e059-ed43-4c7a-8ccc-bafd03b442ae",
   "metadata": {},
   "outputs": [],
   "source": [
    "path = \"E:/quera_Data/IR/Beinolmelal/\"\n",
    "output_path = \"E:/quera_Data/IR/Normalized Beinolmelal/\"\n",
    "for i in range(1, 3995):\n",
    "    text_file = open(path+str(i)+\".txt\", \"r\", encoding=\"utf-8\")\n",
    "    text = text_file.read()\n",
    "    normalized_text = normalizer.normalize(text)\n",
    "    output_file = open(output_path+str(i)+\".txt\", \"w\", encoding=\"utf-8\")\n",
    "    output_file.write(normalized_text)\n",
    "    output_file.close()"
   ]
  },
  {
   "cell_type": "code",
   "execution_count": null,
   "id": "0cdbf8ba-ed19-4cb4-bb7b-950da8c6c052",
   "metadata": {},
   "outputs": [],
   "source": []
  }
 ],
 "metadata": {
  "kernelspec": {
   "display_name": "Python 3 (ipykernel)",
   "language": "python",
   "name": "python3"
  },
  "language_info": {
   "codemirror_mode": {
    "name": "ipython",
    "version": 3
   },
   "file_extension": ".py",
   "mimetype": "text/x-python",
   "name": "python",
   "nbconvert_exporter": "python",
   "pygments_lexer": "ipython3",
   "version": "3.8.0"
  }
 },
 "nbformat": 4,
 "nbformat_minor": 5
}
